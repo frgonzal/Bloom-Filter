{
 "cells": [
  {
   "cell_type": "code",
   "execution_count": null,
   "metadata": {},
   "outputs": [],
   "source": [
    "def clean_otherNames():\n",
    "    otherNamesClean = []\n",
    "    names = {element: element for element in open(\"../../db/names.csv\").read().split(\"\\n\")}\n",
    "    otherNames = open(\"../../db/otherNames.csv\", \"r\").read().split(\"\\n\")\n",
    "\n",
    "    for name in otherNames:\n",
    "        if name not in names:\n",
    "            otherNamesClean.append(name)\n",
    "\n",
    "    with open(\"../../db/otherNames2.csv\", \"w\") as f:\n",
    "        f.write(\"\\n\".join(otherNamesClean))\n",
    "\n",
    "clean_otherNames()"
   ]
  }
 ],
 "metadata": {
  "language_info": {
   "name": "python"
  }
 },
 "nbformat": 4,
 "nbformat_minor": 2
}
